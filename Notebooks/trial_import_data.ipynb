{
 "cells": [
  {
   "cell_type": "code",
   "execution_count": 1,
   "metadata": {},
   "outputs": [
    {
     "data": {
      "text/html": [
       "<div>\n",
       "<style scoped>\n",
       "    .dataframe tbody tr th:only-of-type {\n",
       "        vertical-align: middle;\n",
       "    }\n",
       "\n",
       "    .dataframe tbody tr th {\n",
       "        vertical-align: top;\n",
       "    }\n",
       "\n",
       "    .dataframe thead th {\n",
       "        text-align: right;\n",
       "    }\n",
       "</style>\n",
       "<table border=\"1\" class=\"dataframe\">\n",
       "  <thead>\n",
       "    <tr style=\"text-align: right;\">\n",
       "      <th></th>\n",
       "      <th>dateTime</th>\n",
       "      <th>value</th>\n",
       "    </tr>\n",
       "  </thead>\n",
       "  <tbody>\n",
       "    <tr>\n",
       "      <th>0</th>\n",
       "      <td>2022-02-14 00:00:00</td>\n",
       "      <td>45</td>\n",
       "    </tr>\n",
       "    <tr>\n",
       "      <th>1</th>\n",
       "      <td>2022-02-14 00:01:00</td>\n",
       "      <td>10</td>\n",
       "    </tr>\n",
       "    <tr>\n",
       "      <th>2</th>\n",
       "      <td>2022-02-14 00:02:00</td>\n",
       "      <td>0</td>\n",
       "    </tr>\n",
       "  </tbody>\n",
       "</table>\n",
       "</div>"
      ],
      "text/plain": [
       "             dateTime value\n",
       "0 2022-02-14 00:00:00    45\n",
       "1 2022-02-14 00:01:00    10\n",
       "2 2022-02-14 00:02:00     0"
      ]
     },
     "execution_count": 1,
     "metadata": {},
     "output_type": "execute_result"
    }
   ],
   "source": [
    "import os\n",
    "import pandas as pd\n",
    "import json\n",
    "import altair as alt\n",
    "\n",
    "# Enable the dark theme\n",
    "alt.themes.enable(\"dark\")\n",
    "\n",
    "path_to_json = '../data/'\n",
    "# json_files = [pos_json for pos_json in os.listdir(path_to_json) if pos_json.endswith('.json')]\n",
    "json_files = [pos_json for pos_json in os.listdir(path_to_json) if pos_json.startswith('steps-')]\n",
    "\n",
    "dataframes = []\n",
    "for index, js in enumerate(json_files):\n",
    "    with open(os.path.join(path_to_json, js)) as json_file:\n",
    "        json_text = json.load(json_file)\n",
    "        df = pd.json_normalize(json_text)\n",
    "        df['dateTime'] = pd.to_datetime(df['dateTime'], format='%m/%d/%y %H:%M:%S')\n",
    "        dataframes.append(df)\n",
    "\n",
    "result = pd.concat(dataframes)\n",
    "result.head(3)"
   ]
  },
  {
   "cell_type": "code",
   "execution_count": 2,
   "metadata": {},
   "outputs": [],
   "source": [
    "df['value'] = df['value'].astype(int)"
   ]
  },
  {
   "cell_type": "code",
   "execution_count": 3,
   "metadata": {},
   "outputs": [
    {
     "name": "stderr",
     "output_type": "stream",
     "text": [
      "/var/folders/zg/b63jfq5j6pzb4_lby01nk6_m0000gn/T/ipykernel_22949/2663907322.py:1: FutureWarning: The default value of numeric_only in DataFrameGroupBy.sum is deprecated. In a future version, numeric_only will default to False. Either specify numeric_only or select only columns which should be valid for the function.\n",
      "  df = df.groupby(df['dateTime'].dt.date).sum()\n"
     ]
    }
   ],
   "source": [
    "df = df.groupby(df['dateTime'].dt.date).sum()\n",
    "df = df.reset_index()"
   ]
  },
  {
   "cell_type": "code",
   "execution_count": 4,
   "metadata": {},
   "outputs": [
    {
     "name": "stderr",
     "output_type": "stream",
     "text": [
      "/var/folders/zg/b63jfq5j6pzb4_lby01nk6_m0000gn/T/ipykernel_22949/1017039611.py:5: FutureWarning: The default value of numeric_only in DataFrameGroupBy.mean is deprecated. In a future version, numeric_only will default to False. Either specify numeric_only or select only columns which should be valid for the function.\n",
      "  df_weekly = df.groupby('week').mean().reset_index()\n"
     ]
    }
   ],
   "source": [
    "df['dateTime'] = pd.to_datetime(df['dateTime'])\n",
    "# create a new column with the week number\n",
    "df['week'] = df['dateTime'].dt.isocalendar().week\n",
    "# group the data by week and calculate the mean for each week\n",
    "df_weekly = df.groupby('week').mean().reset_index()"
   ]
  },
  {
   "cell_type": "code",
   "execution_count": 5,
   "metadata": {},
   "outputs": [
    {
     "data": {
      "text/html": [
       "\n",
       "<div id=\"altair-viz-99b232d96624456dac3477e7bd8ad2af\"></div>\n",
       "<script type=\"text/javascript\">\n",
       "  var VEGA_DEBUG = (typeof VEGA_DEBUG == \"undefined\") ? {} : VEGA_DEBUG;\n",
       "  (function(spec, embedOpt){\n",
       "    let outputDiv = document.currentScript.previousElementSibling;\n",
       "    if (outputDiv.id !== \"altair-viz-99b232d96624456dac3477e7bd8ad2af\") {\n",
       "      outputDiv = document.getElementById(\"altair-viz-99b232d96624456dac3477e7bd8ad2af\");\n",
       "    }\n",
       "    const paths = {\n",
       "      \"vega\": \"https://cdn.jsdelivr.net/npm//vega@5?noext\",\n",
       "      \"vega-lib\": \"https://cdn.jsdelivr.net/npm//vega-lib?noext\",\n",
       "      \"vega-lite\": \"https://cdn.jsdelivr.net/npm//vega-lite@4.17.0?noext\",\n",
       "      \"vega-embed\": \"https://cdn.jsdelivr.net/npm//vega-embed@6?noext\",\n",
       "    };\n",
       "\n",
       "    function maybeLoadScript(lib, version) {\n",
       "      var key = `${lib.replace(\"-\", \"\")}_version`;\n",
       "      return (VEGA_DEBUG[key] == version) ?\n",
       "        Promise.resolve(paths[lib]) :\n",
       "        new Promise(function(resolve, reject) {\n",
       "          var s = document.createElement('script');\n",
       "          document.getElementsByTagName(\"head\")[0].appendChild(s);\n",
       "          s.async = true;\n",
       "          s.onload = () => {\n",
       "            VEGA_DEBUG[key] = version;\n",
       "            return resolve(paths[lib]);\n",
       "          };\n",
       "          s.onerror = () => reject(`Error loading script: ${paths[lib]}`);\n",
       "          s.src = paths[lib];\n",
       "        });\n",
       "    }\n",
       "\n",
       "    function showError(err) {\n",
       "      outputDiv.innerHTML = `<div class=\"error\" style=\"color:red;\">${err}</div>`;\n",
       "      throw err;\n",
       "    }\n",
       "\n",
       "    function displayChart(vegaEmbed) {\n",
       "      vegaEmbed(outputDiv, spec, embedOpt)\n",
       "        .catch(err => showError(`Javascript Error: ${err.message}<br>This usually means there's a typo in your chart specification. See the javascript console for the full traceback.`));\n",
       "    }\n",
       "\n",
       "    if(typeof define === \"function\" && define.amd) {\n",
       "      requirejs.config({paths});\n",
       "      require([\"vega-embed\"], displayChart, err => showError(`Error loading script: ${err.message}`));\n",
       "    } else {\n",
       "      maybeLoadScript(\"vega\", \"5\")\n",
       "        .then(() => maybeLoadScript(\"vega-lite\", \"4.17.0\"))\n",
       "        .then(() => maybeLoadScript(\"vega-embed\", \"6\"))\n",
       "        .catch(showError)\n",
       "        .then(() => displayChart(vegaEmbed));\n",
       "    }\n",
       "  })({\"usermeta\": {\"embedOptions\": {\"theme\": \"dark\"}}, \"config\": {\"view\": {\"continuousWidth\": 400, \"continuousHeight\": 300}}, \"hconcat\": [{\"mark\": \"line\", \"encoding\": {\"x\": {\"field\": \"dateTime\", \"type\": \"temporal\"}, \"y\": {\"field\": \"value\", \"type\": \"quantitative\"}}, \"title\": \"Line Chart of My Data\"}, {\"mark\": \"bar\", \"encoding\": {\"x\": {\"field\": \"dateTime\", \"type\": \"temporal\"}, \"y\": {\"field\": \"value\", \"type\": \"quantitative\"}}, \"title\": \"Bar Chart of My Data\"}, {\"data\": {\"name\": \"data-81a25da80535581734c91eaa0a35af59\"}, \"mark\": \"line\", \"encoding\": {\"x\": {\"field\": \"week\", \"type\": \"nominal\"}, \"y\": {\"field\": \"value\", \"type\": \"quantitative\"}}, \"title\": \"Line Chart of My Data (Aggregated by Week)\"}], \"data\": {\"name\": \"data-e4b75d2bf67c07b26367d46535885db4\"}, \"$schema\": \"https://vega.github.io/schema/vega-lite/v4.17.0.json\", \"datasets\": {\"data-e4b75d2bf67c07b26367d46535885db4\": [{\"dateTime\": \"2022-05-14T00:00:00\", \"value\": 513, \"week\": 19}, {\"dateTime\": \"2022-05-15T00:00:00\", \"value\": 3045, \"week\": 19}, {\"dateTime\": \"2022-05-16T00:00:00\", \"value\": 10433, \"week\": 20}, {\"dateTime\": \"2022-05-17T00:00:00\", \"value\": 19179, \"week\": 20}, {\"dateTime\": \"2022-05-18T00:00:00\", \"value\": 19950, \"week\": 20}, {\"dateTime\": \"2022-05-19T00:00:00\", \"value\": 20982, \"week\": 20}, {\"dateTime\": \"2022-05-20T00:00:00\", \"value\": 5031, \"week\": 20}, {\"dateTime\": \"2022-05-21T00:00:00\", \"value\": 18896, \"week\": 20}, {\"dateTime\": \"2022-05-22T00:00:00\", \"value\": 13741, \"week\": 20}, {\"dateTime\": \"2022-05-23T00:00:00\", \"value\": 14092, \"week\": 21}, {\"dateTime\": \"2022-05-24T00:00:00\", \"value\": 18342, \"week\": 21}, {\"dateTime\": \"2022-05-25T00:00:00\", \"value\": 8120, \"week\": 21}, {\"dateTime\": \"2022-05-26T00:00:00\", \"value\": 22676, \"week\": 21}, {\"dateTime\": \"2022-05-27T00:00:00\", \"value\": 25516, \"week\": 21}, {\"dateTime\": \"2022-05-28T00:00:00\", \"value\": 18513, \"week\": 21}, {\"dateTime\": \"2022-05-29T00:00:00\", \"value\": 19574, \"week\": 21}, {\"dateTime\": \"2022-05-30T00:00:00\", \"value\": 15274, \"week\": 22}, {\"dateTime\": \"2022-05-31T00:00:00\", \"value\": 8426, \"week\": 22}, {\"dateTime\": \"2022-06-01T00:00:00\", \"value\": 8644, \"week\": 22}, {\"dateTime\": \"2022-06-02T00:00:00\", \"value\": 21988, \"week\": 22}, {\"dateTime\": \"2022-06-03T00:00:00\", \"value\": 10921, \"week\": 22}, {\"dateTime\": \"2022-06-04T00:00:00\", \"value\": 30750, \"week\": 22}, {\"dateTime\": \"2022-06-05T00:00:00\", \"value\": 7060, \"week\": 22}, {\"dateTime\": \"2022-06-06T00:00:00\", \"value\": 13256, \"week\": 23}, {\"dateTime\": \"2022-06-07T00:00:00\", \"value\": 18099, \"week\": 23}, {\"dateTime\": \"2022-06-08T00:00:00\", \"value\": 14662, \"week\": 23}, {\"dateTime\": \"2022-06-09T00:00:00\", \"value\": 6487, \"week\": 23}, {\"dateTime\": \"2022-06-10T00:00:00\", \"value\": 14655, \"week\": 23}, {\"dateTime\": \"2022-06-11T00:00:00\", \"value\": 16103, \"week\": 23}, {\"dateTime\": \"2022-06-12T00:00:00\", \"value\": 6088, \"week\": 23}, {\"dateTime\": \"2022-06-13T00:00:00\", \"value\": 9474, \"week\": 24}], \"data-81a25da80535581734c91eaa0a35af59\": [{\"week\": 19, \"value\": 1779.0}, {\"week\": 20, \"value\": 15458.857142857143}, {\"week\": 21, \"value\": 18119.0}, {\"week\": 22, \"value\": 14723.285714285714}, {\"week\": 23, \"value\": 12764.285714285714}, {\"week\": 24, \"value\": 9474.0}]}}, {\"mode\": \"vega-lite\"});\n",
       "</script>"
      ],
      "text/plain": [
       "alt.HConcatChart(...)"
      ]
     },
     "execution_count": 5,
     "metadata": {},
     "output_type": "execute_result"
    }
   ],
   "source": [
    "line_chart = alt.Chart(df).mark_line().encode(\n",
    "    x='dateTime:T',\n",
    "    y='value:Q'\n",
    ").properties(\n",
    "    title='Line Chart of My Data'\n",
    ")\n",
    "\n",
    "bar_chart = alt.Chart(df).mark_bar().encode(\n",
    "    x='dateTime:T',\n",
    "    y='value:Q'\n",
    ").properties(\n",
    "    title='Bar Chart of My Data'\n",
    ")\n",
    "\n",
    "line_chart_week = alt.Chart(df_weekly).mark_line().encode(\n",
    "    x='week:N',\n",
    "    y='value:Q'\n",
    ").properties(\n",
    "    title='Line Chart of My Data (Aggregated by Week)'\n",
    ")\n",
    "\n",
    "line_chart | bar_chart | line_chart_week"
   ]
  },
  {
   "cell_type": "code",
   "execution_count": null,
   "metadata": {},
   "outputs": [],
   "source": []
  }
 ],
 "metadata": {
  "kernelspec": {
   "display_name": "base",
   "language": "python",
   "name": "python3"
  },
  "language_info": {
   "codemirror_mode": {
    "name": "ipython",
    "version": 3
   },
   "file_extension": ".py",
   "mimetype": "text/x-python",
   "name": "python",
   "nbconvert_exporter": "python",
   "pygments_lexer": "ipython3",
   "version": "3.9.1"
  },
  "orig_nbformat": 4,
  "vscode": {
   "interpreter": {
    "hash": "44e85bc0401f69617234f4ed663dcebff936e8ca4069e4544948d7271829d5d2"
   }
  }
 },
 "nbformat": 4,
 "nbformat_minor": 2
}
